{
  "nbformat": 4,
  "nbformat_minor": 0,
  "metadata": {
    "colab": {
      "provenance": [],
      "include_colab_link": true
    },
    "kernelspec": {
      "name": "python3",
      "display_name": "Python 3"
    },
    "language_info": {
      "name": "python"
    }
  },
  "cells": [
    {
      "cell_type": "markdown",
      "metadata": {
        "id": "view-in-github",
        "colab_type": "text"
      },
      "source": [
        "<a href=\"https://colab.research.google.com/github/widhi19520008/UJSP-/blob/main/WIDHI_19_52_0008___TUGAS_1_.ipynb\" target=\"_parent\"><img src=\"https://colab.research.google.com/assets/colab-badge.svg\" alt=\"Open In Colab\"/></a>"
      ]
    },
    {
      "cell_type": "code",
      "execution_count": null,
      "metadata": {
        "colab": {
          "base_uri": "https://localhost:8080/"
        },
        "id": "0zq-iZFRkLja",
        "outputId": "44073aa2-f5ad-427b-faa6-af079a296bb9"
      },
      "outputs": [
        {
          "output_type": "execute_result",
          "data": {
            "text/plain": [
              "14"
            ]
          },
          "metadata": {},
          "execution_count": 1
        }
      ],
      "source": [
        "2+3+9"
      ]
    },
    {
      "cell_type": "code",
      "source": [
        "99-73"
      ],
      "metadata": {
        "colab": {
          "base_uri": "https://localhost:8080/"
        },
        "id": "QmQOopjbkZ-P",
        "outputId": "9b8e7db6-e09f-42f7-9d46-830202911c56"
      },
      "execution_count": null,
      "outputs": [
        {
          "output_type": "execute_result",
          "data": {
            "text/plain": [
              "26"
            ]
          },
          "metadata": {},
          "execution_count": 3
        }
      ]
    },
    {
      "cell_type": "code",
      "source": [
        "23.54*-1432"
      ],
      "metadata": {
        "colab": {
          "base_uri": "https://localhost:8080/"
        },
        "id": "aTv5aT2hls3f",
        "outputId": "202eb1ec-e4fb-4750-8ad1-c1a7bac05cad"
      },
      "execution_count": null,
      "outputs": [
        {
          "output_type": "execute_result",
          "data": {
            "text/plain": [
              "-33709.28"
            ]
          },
          "metadata": {},
          "execution_count": 4
        }
      ]
    },
    {
      "cell_type": "code",
      "source": [
        "100/7"
      ],
      "metadata": {
        "colab": {
          "base_uri": "https://localhost:8080/"
        },
        "id": "4G1WyG4Tl7YV",
        "outputId": "a6d483cf-4248-402e-fb88-a7c3395d642e"
      },
      "execution_count": null,
      "outputs": [
        {
          "output_type": "execute_result",
          "data": {
            "text/plain": [
              "14.285714285714286"
            ]
          },
          "metadata": {},
          "execution_count": 5
        }
      ]
    },
    {
      "cell_type": "code",
      "source": [
        "100//7"
      ],
      "metadata": {
        "colab": {
          "base_uri": "https://localhost:8080/"
        },
        "id": "Yr7ty3u1l_fN",
        "outputId": "d003470d-825b-4dce-fed6-c030e9dce774"
      },
      "execution_count": null,
      "outputs": [
        {
          "output_type": "execute_result",
          "data": {
            "text/plain": [
              "14"
            ]
          },
          "metadata": {},
          "execution_count": 6
        }
      ]
    },
    {
      "cell_type": "code",
      "source": [
        "100%7"
      ],
      "metadata": {
        "colab": {
          "base_uri": "https://localhost:8080/"
        },
        "id": "fuL-HT7RmILd",
        "outputId": "02d31eea-a70e-4667-9b73-ed01d5bcdd67"
      },
      "execution_count": null,
      "outputs": [
        {
          "output_type": "execute_result",
          "data": {
            "text/plain": [
              "2"
            ]
          },
          "metadata": {},
          "execution_count": 7
        }
      ]
    },
    {
      "cell_type": "code",
      "source": [
        "5**3"
      ],
      "metadata": {
        "colab": {
          "base_uri": "https://localhost:8080/"
        },
        "id": "bIjG3ShUmM3E",
        "outputId": "1c9352ec-25a9-4e0e-9d38-971299210f83"
      },
      "execution_count": null,
      "outputs": [
        {
          "output_type": "execute_result",
          "data": {
            "text/plain": [
              "125"
            ]
          },
          "metadata": {},
          "execution_count": 8
        }
      ]
    },
    {
      "cell_type": "code",
      "source": [
        "((2+5)*(17-3))/(4**3)"
      ],
      "metadata": {
        "colab": {
          "base_uri": "https://localhost:8080/"
        },
        "id": "Ycr-WD3-mX_l",
        "outputId": "afda6899-63d0-433f-f7aa-5de71d624dad"
      },
      "execution_count": null,
      "outputs": [
        {
          "output_type": "execute_result",
          "data": {
            "text/plain": [
              "1.53125"
            ]
          },
          "metadata": {},
          "execution_count": 9
        }
      ]
    },
    {
      "cell_type": "code",
      "source": [
        "my_favorit_number = 1\n",
        "my_least_favorit_number = 5\n",
        "a_neutral_number = 3"
      ],
      "metadata": {
        "id": "t-PmvrDtmt3n"
      },
      "execution_count": null,
      "outputs": []
    },
    {
      "cell_type": "code",
      "source": [
        "# Equality check - True\n",
        "my_favorit_number == 1"
      ],
      "metadata": {
        "colab": {
          "base_uri": "https://localhost:8080/"
        },
        "id": "fu1ldtSGnP8F",
        "outputId": "8d28740c-32ef-43a8-ab76-ad5261b6f44b"
      },
      "execution_count": null,
      "outputs": [
        {
          "output_type": "execute_result",
          "data": {
            "text/plain": [
              "True"
            ]
          },
          "metadata": {},
          "execution_count": 11
        }
      ]
    },
    {
      "cell_type": "code",
      "source": [
        "# Equality check -False\n",
        "my_favorit_number == my_least_favorit_number"
      ],
      "metadata": {
        "colab": {
          "base_uri": "https://localhost:8080/"
        },
        "id": "Xukg9d-6nizN",
        "outputId": "c0203b5e-f39b-422b-97c0-6c337d21424a"
      },
      "execution_count": null,
      "outputs": [
        {
          "output_type": "execute_result",
          "data": {
            "text/plain": [
              "False"
            ]
          },
          "metadata": {},
          "execution_count": 12
        }
      ]
    },
    {
      "cell_type": "code",
      "source": [
        "# Not equal check - True\n",
        "my_least_favorit_number != a_neutral_number"
      ],
      "metadata": {
        "colab": {
          "base_uri": "https://localhost:8080/"
        },
        "id": "goqeDyz3n4s1",
        "outputId": "d3240a46-98b2-452a-bd5d-50fa7fb3d2f4"
      },
      "execution_count": null,
      "outputs": [
        {
          "output_type": "execute_result",
          "data": {
            "text/plain": [
              "True"
            ]
          },
          "metadata": {},
          "execution_count": 13
        }
      ]
    },
    {
      "cell_type": "code",
      "source": [
        "# Not equal chek - False\n",
        "a_neutral_number != 3"
      ],
      "metadata": {
        "colab": {
          "base_uri": "https://localhost:8080/"
        },
        "id": "B7XTy0YIoIum",
        "outputId": "d4729989-b5d1-465e-acb8-6e515b4b9419"
      },
      "execution_count": null,
      "outputs": [
        {
          "output_type": "execute_result",
          "data": {
            "text/plain": [
              "False"
            ]
          },
          "metadata": {},
          "execution_count": 14
        }
      ]
    },
    {
      "cell_type": "code",
      "source": [
        "# Greater than check - True\n",
        "my_least_favorit_number > a_neutral_number"
      ],
      "metadata": {
        "colab": {
          "base_uri": "https://localhost:8080/"
        },
        "id": "Ramr_GeuoYHF",
        "outputId": "149d4fdd-78f2-4af4-bd05-b2fe49a8474c"
      },
      "execution_count": null,
      "outputs": [
        {
          "output_type": "execute_result",
          "data": {
            "text/plain": [
              "True"
            ]
          },
          "metadata": {},
          "execution_count": 15
        }
      ]
    },
    {
      "cell_type": "code",
      "source": [
        "import numpy as np\n",
        "from sklearn import preprocessing\n",
        "\n",
        "sample_data = np.array([[2.1, -1.9, 5.5],\n",
        "                       [-1.5, 2.4, 3.5],\n",
        "                       [0.5, -7.9, 5.6],\n",
        "                       [5.9, 2.3, -5.8]])\n",
        "sample_data"
      ],
      "metadata": {
        "colab": {
          "base_uri": "https://localhost:8080/"
        },
        "id": "gbny6lwbrcFg",
        "outputId": "8b00d3b5-3009-448a-fdc5-d3f5e4196c7d"
      },
      "execution_count": null,
      "outputs": [
        {
          "output_type": "execute_result",
          "data": {
            "text/plain": [
              "array([[ 2.1, -1.9,  5.5],\n",
              "       [-1.5,  2.4,  3.5],\n",
              "       [ 0.5, -7.9,  5.6],\n",
              "       [ 5.9,  2.3, -5.8]])"
            ]
          },
          "metadata": {},
          "execution_count": 18
        }
      ]
    },
    {
      "cell_type": "code",
      "source": [
        "sample_data.shape"
      ],
      "metadata": {
        "colab": {
          "base_uri": "https://localhost:8080/"
        },
        "id": "BgHn8G0zs03H",
        "outputId": "28a33467-7d14-45cc-ab50-46146e1fdeda"
      },
      "execution_count": null,
      "outputs": [
        {
          "output_type": "execute_result",
          "data": {
            "text/plain": [
              "(4, 3)"
            ]
          },
          "metadata": {},
          "execution_count": 19
        }
      ]
    },
    {
      "cell_type": "code",
      "source": [
        "sample_data"
      ],
      "metadata": {
        "colab": {
          "base_uri": "https://localhost:8080/"
        },
        "id": "QRyw66nSs7LP",
        "outputId": "df2d4a39-fac2-4023-ee9b-fa89910f5ae4"
      },
      "execution_count": null,
      "outputs": [
        {
          "output_type": "execute_result",
          "data": {
            "text/plain": [
              "array([[ 2.1, -1.9,  5.5],\n",
              "       [-1.5,  2.4,  3.5],\n",
              "       [ 0.5, -7.9,  5.6],\n",
              "       [ 5.9,  2.3, -5.8]])"
            ]
          },
          "metadata": {},
          "execution_count": 20
        }
      ]
    },
    {
      "cell_type": "code",
      "source": [
        "preprocessor = preprocessing.Binarizer(threshold=0.2)\n",
        "binarised_data = preprocessor.transform(sample_data)\n",
        "binarised_data"
      ],
      "metadata": {
        "colab": {
          "base_uri": "https://localhost:8080/"
        },
        "id": "1D4n8L7vtEY4",
        "outputId": "6a2a1fbe-9855-47c7-f590-4a4b38cfa1e7"
      },
      "execution_count": null,
      "outputs": [
        {
          "output_type": "execute_result",
          "data": {
            "text/plain": [
              "array([[1., 0., 1.],\n",
              "       [0., 1., 1.],\n",
              "       [1., 0., 1.],\n",
              "       [1., 1., 0.]])"
            ]
          },
          "metadata": {},
          "execution_count": 22
        }
      ]
    },
    {
      "cell_type": "markdown",
      "source": [
        "Teknik Scalling"
      ],
      "metadata": {
        "id": "QjKkTiEiwYHO"
      }
    },
    {
      "cell_type": "code",
      "source": [
        "sample_data"
      ],
      "metadata": {
        "colab": {
          "base_uri": "https://localhost:8080/"
        },
        "id": "Lfd7hZNTt288",
        "outputId": "cd0778ef-b9c1-45cb-c05f-297970bda2e2"
      },
      "execution_count": null,
      "outputs": [
        {
          "output_type": "execute_result",
          "data": {
            "text/plain": [
              "array([[ 2.1, -1.9,  5.5],\n",
              "       [-1.5,  2.4,  3.5],\n",
              "       [ 0.5, -7.9,  5.6],\n",
              "       [ 5.9,  2.3, -5.8]])"
            ]
          },
          "metadata": {},
          "execution_count": 24
        }
      ]
    },
    {
      "cell_type": "code",
      "source": [
        "preprocessor_scall = preprocessing.MinMaxScaler(feature_range=(0,1))\n",
        "preprocessor_scall.fit(sample_data)\n",
        "\n",
        "#cara 1\n",
        "scaled_data = preprocessor_scall.transform(sample_data)\n",
        "scaled_data"
      ],
      "metadata": {
        "colab": {
          "base_uri": "https://localhost:8080/"
        },
        "id": "gUVOBrKiuOWs",
        "outputId": "ae782c6e-49ed-4e5d-8eb1-140994974eb6"
      },
      "execution_count": null,
      "outputs": [
        {
          "output_type": "execute_result",
          "data": {
            "text/plain": [
              "array([[0.48648649, 0.58252427, 0.99122807],\n",
              "       [0.        , 1.        , 0.81578947],\n",
              "       [0.27027027, 0.        , 1.        ],\n",
              "       [1.        , 0.99029126, 0.        ]])"
            ]
          },
          "metadata": {},
          "execution_count": 30
        }
      ]
    },
    {
      "cell_type": "code",
      "source": [
        "#cara 2\n",
        "scaled_data = preprocessor_scall.fit_transform(sample_data)\n",
        "scaled_data"
      ],
      "metadata": {
        "colab": {
          "base_uri": "https://localhost:8080/"
        },
        "id": "o-bKzawqvG-Q",
        "outputId": "c13236f2-5153-4efc-c238-0c8363fa37e2"
      },
      "execution_count": null,
      "outputs": [
        {
          "output_type": "execute_result",
          "data": {
            "text/plain": [
              "array([[0.48648649, 0.58252427, 0.99122807],\n",
              "       [0.        , 1.        , 0.81578947],\n",
              "       [0.27027027, 0.        , 1.        ],\n",
              "       [1.        , 0.99029126, 0.        ]])"
            ]
          },
          "metadata": {},
          "execution_count": 29
        }
      ]
    },
    {
      "cell_type": "markdown",
      "source": [
        "Teknik Normalization L1"
      ],
      "metadata": {
        "id": "Br-NWkG6wmEE"
      }
    },
    {
      "cell_type": "code",
      "source": [
        "# normalized l1\n",
        "l1_normalized_data = preprocessing.normalize(sample_data, norm='l1')\n",
        "l1_normalized_data"
      ],
      "metadata": {
        "colab": {
          "base_uri": "https://localhost:8080/"
        },
        "id": "8Oo3uglSwuk9",
        "outputId": "db777b7f-576c-41ff-bef1-75cfd390830e"
      },
      "execution_count": null,
      "outputs": [
        {
          "output_type": "execute_result",
          "data": {
            "text/plain": [
              "array([[ 0.22105263, -0.2       ,  0.57894737],\n",
              "       [-0.2027027 ,  0.32432432,  0.47297297],\n",
              "       [ 0.03571429, -0.56428571,  0.4       ],\n",
              "       [ 0.42142857,  0.16428571, -0.41428571]])"
            ]
          },
          "metadata": {},
          "execution_count": 31
        }
      ]
    },
    {
      "cell_type": "code",
      "source": [
        "# normalized l2\n",
        "l1_normalized_data = preprocessing.normalize(sample_data, norm='l2')\n",
        "l1_normalized_data"
      ],
      "metadata": {
        "colab": {
          "base_uri": "https://localhost:8080/"
        },
        "id": "i0xXA_frx1xg",
        "outputId": "dd90114b-d792-4a42-a4b1-e1ab4f3203df"
      },
      "execution_count": null,
      "outputs": [
        {
          "output_type": "execute_result",
          "data": {
            "text/plain": [
              "array([[ 0.33946114, -0.30713151,  0.88906489],\n",
              "       [-0.33325106,  0.53320169,  0.7775858 ],\n",
              "       [ 0.05156558, -0.81473612,  0.57753446],\n",
              "       [ 0.68706914,  0.26784051, -0.6754239 ]])"
            ]
          },
          "metadata": {},
          "execution_count": 32
        }
      ]
    },
    {
      "cell_type": "code",
      "source": [
        "# Encoding\n",
        "label_kategori_hari =['senin', 'selasa', 'rabu', 'kamis', 'jumat', 'sabtu', 'minggu']\n",
        "label_kategori_bulan =['januari', 'februari', 'maret']\n",
        "encoder = preprocessing.LabelEncoder()\n",
        "encoder.fit(label_kategori_bulan)\n",
        "\n",
        "print (\"\\nLabel mapping:\")\n",
        "for i, item in enumerate(encoder.classes_):\n",
        "  print (item, '=', i)"
      ],
      "metadata": {
        "colab": {
          "base_uri": "https://localhost:8080/"
        },
        "id": "yt0o9J9nx-Mu",
        "outputId": "3e7d4adb-3d46-4c0d-ee2a-f108ac1eaa2a"
      },
      "execution_count": null,
      "outputs": [
        {
          "output_type": "stream",
          "name": "stdout",
          "text": [
            "\n",
            "Label mapping:\n",
            "februari = 0\n",
            "januari = 1\n",
            "maret = 2\n"
          ]
        }
      ]
    },
    {
      "cell_type": "markdown",
      "source": [],
      "metadata": {
        "id": "OTQKAVXXldR9"
      }
    }
  ]
}