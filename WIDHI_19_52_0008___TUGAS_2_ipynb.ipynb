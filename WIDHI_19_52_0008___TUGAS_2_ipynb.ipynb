{
  "nbformat": 4,
  "nbformat_minor": 0,
  "metadata": {
    "colab": {
      "provenance": [],
      "authorship_tag": "ABX9TyMfI1HmKjwLywI5FG20W/ig",
      "include_colab_link": true
    },
    "kernelspec": {
      "name": "python3",
      "display_name": "Python 3"
    },
    "language_info": {
      "name": "python"
    }
  },
  "cells": [
    {
      "cell_type": "markdown",
      "metadata": {
        "id": "view-in-github",
        "colab_type": "text"
      },
      "source": [
        "<a href=\"https://colab.research.google.com/github/widhi19520008/UJSP-/blob/main/WIDHI_19_52_0008___TUGAS_2_ipynb.ipynb\" target=\"_parent\"><img src=\"https://colab.research.google.com/assets/colab-badge.svg\" alt=\"Open In Colab\"/></a>"
      ]
    },
    {
      "cell_type": "code",
      "execution_count": null,
      "metadata": {
        "colab": {
          "base_uri": "https://localhost:8080/"
        },
        "id": "VypLd3lhKOaB",
        "outputId": "0b4a6f98-b8c4-464f-c141-a53ec2764500"
      },
      "outputs": [
        {
          "output_type": "stream",
          "name": "stdout",
          "text": [
            "random_state ditentukan\n",
            "[8, 1, 5]\n",
            "[8, 1, 5]\n",
            "[8, 1, 5]\n",
            "random_state tidak ditentukan\n",
            "[8, 4, 0]\n",
            "[5, 1, 2]\n",
            "[2, 5, 7]\n"
          ]
        }
      ],
      "source": [
        "from sklearn.model_selection import train_test_split\n",
        "\n",
        "X_data = range(10)\n",
        "y_data = range(10)\n",
        "\n",
        "\n",
        "print(\"random_state ditentukan\")\n",
        "for i in range(3):\n",
        "    X_train, X_test, y_train, y_test = train_test_split(X_data, y_data, test_size = 0.3, random_state = 42)\n",
        "    print(y_test)\n",
        "\n",
        "print(\"random_state tidak ditentukan\")\n",
        "for i in range(3):\n",
        "    X_train, X_test, y_train, y_test = train_test_split(X_data, y_data, test_size = 0.3, random_state = None)\n",
        "    print(y_test)"
      ]
    },
    {
      "cell_type": "code",
      "source": [],
      "metadata": {
        "id": "BsBzK5yiLTQ5"
      },
      "execution_count": null,
      "outputs": []
    }
  ]
}